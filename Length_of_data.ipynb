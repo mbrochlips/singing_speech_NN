{
 "cells": [
  {
   "cell_type": "markdown",
   "metadata": {},
   "source": [
    "Import relevant packages"
   ]
  },
  {
   "cell_type": "code",
   "execution_count": 58,
   "metadata": {},
   "outputs": [],
   "source": [
    "import tensorflow as tf\n",
    "import tensorflow_io as  tfio\n",
    "import os\n",
    "import librosa\n",
    "import numpy as np\n",
    "from Code.wip2_MIKnDAV import read_mp3\n"
   ]
  },
  {
   "cell_type": "markdown",
   "metadata": {},
   "source": [
    "### Read MP3 files"
   ]
  },
  {
   "cell_type": "code",
   "execution_count": 59,
   "metadata": {},
   "outputs": [],
   "source": [
    "def read_mp3(filename, as_float=True): # Change duration here\n",
    "    sound, sample_rate = librosa.load(filename, sr=None, mono=True) # Offset = 1.0 betyder, at lydfilen læses fra 1.0 fra start og 2 sekunder frem (duration = 2.0)\n",
    "    if as_float:\n",
    "        sound = sound.astype(float)\n",
    "    return sample_rate, sound"
   ]
  },
  {
   "cell_type": "markdown",
   "metadata": {},
   "source": [
    "# Length of data"
   ]
  },
  {
   "cell_type": "code",
   "execution_count": 62,
   "metadata": {},
   "outputs": [
    {
     "data": {
      "text/plain": [
       "46.830411111111104"
      ]
     },
     "execution_count": 62,
     "metadata": {},
     "output_type": "execute_result"
    }
   ],
   "source": [
    "\n",
    "def length_in_min(path):\n",
    "    lengths = [] # Laver en liste med længderne af filerne målt i hz.\n",
    "    for file in os.listdir(path):\n",
    "        sample_rate ,tensor_wave = read_mp3(os.path.join(path,file))\n",
    "        lengths.append(len(tensor_wave)/sample_rate) # Her appendes lænden af filen i sekunder\n",
    "    minutes = (sum(lengths)) / 60 # Omregn til minutter\n",
    "    return minutes # Returnerer #minutter clips\n",
    "length_in_min(path = '/Users/davidlindahl/Desktop/GitHub/singing_speech_NN-main/audio/test/sing')\n",
    "\n",
    "\n"
   ]
  },
  {
   "cell_type": "markdown",
   "metadata": {},
   "source": [
    "Length of training data:"
   ]
  },
  {
   "cell_type": "code",
   "execution_count": 67,
   "metadata": {},
   "outputs": [
    {
     "name": "stdout",
     "output_type": "stream",
     "text": [
      "Totalt træningsdata i /Users/davidlindahl/Desktop/GitHub/singing_speech_NN-main/audio/test/sing: 46.830411111111104 min\n"
     ]
    }
   ],
   "source": [
    "path_sing = '/Users/davidlindahl/Desktop/GitHub/singing_speech_NN-main/audio/test/sing'\n",
    "print(f'Totalt træningsdata i {path_sing}:',length_in_min(path_sing) ,  'min')"
   ]
  },
  {
   "cell_type": "code",
   "execution_count": 66,
   "metadata": {},
   "outputs": [
    {
     "name": "stdout",
     "output_type": "stream",
     "text": [
      "Totalt træningsdata i /Users/davidlindahl/Desktop/GitHub/singing_speech_NN-main/audio/test/speech: 10.058580208333332 min\n"
     ]
    }
   ],
   "source": [
    "path_speech =  os.path.join('/Users/davidlindahl/Desktop/GitHub/singing_speech_NN-main/audio/test/speech')\n",
    "print(f'Totalt træningsdata i {path_speech}:',length_in_min(path_speech) ,  'min')\n"
   ]
  }
 ],
 "metadata": {
  "kernelspec": {
   "display_name": "Python 3",
   "language": "python",
   "name": "python3"
  },
  "language_info": {
   "codemirror_mode": {
    "name": "ipython",
    "version": 3
   },
   "file_extension": ".py",
   "mimetype": "text/x-python",
   "name": "python",
   "nbconvert_exporter": "python",
   "pygments_lexer": "ipython3",
   "version": "3.11.5"
  },
  "orig_nbformat": 4
 },
 "nbformat": 4,
 "nbformat_minor": 2
}
