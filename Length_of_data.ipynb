{
 "cells": [
  {
   "cell_type": "markdown",
   "metadata": {},
   "source": [
    "Import relevant packages"
   ]
  },
  {
   "cell_type": "code",
   "execution_count": 9,
   "metadata": {},
   "outputs": [],
   "source": [
    "import os\n",
    "import librosa\n",
    "import numpy as np\n"
   ]
  },
  {
   "cell_type": "markdown",
   "metadata": {},
   "source": [
    "### Read MP3 files"
   ]
  },
  {
   "cell_type": "code",
   "execution_count": 10,
   "metadata": {},
   "outputs": [],
   "source": [
    "def read_mp3(filename, as_float=True): # Change duration here\n",
    "    sound, sample_rate = librosa.load(filename, sr=None, mono=True) # Offset = 1.0 betyder, at lydfilen læses fra 1.0 fra start og 2 sekunder frem (duration = 2.0)\n",
    "    if as_float:\n",
    "        sound = sound.astype(float)\n",
    "    return sample_rate, sound"
   ]
  },
  {
   "cell_type": "markdown",
   "metadata": {},
   "source": [
    "# Length of data"
   ]
  },
  {
   "cell_type": "code",
   "execution_count": 11,
   "metadata": {},
   "outputs": [
    {
     "data": {
      "text/plain": [
       "38.73"
      ]
     },
     "execution_count": 11,
     "metadata": {},
     "output_type": "execute_result"
    }
   ],
   "source": [
    "\n",
    "def length_in_min(path):\n",
    "    lengths = [] # Laver en liste med længderne af filerne målt i hz.\n",
    "    for file in os.listdir(path):\n",
    "        sample_rate ,tensor_wave = read_mp3(os.path.join(path,file))\n",
    "        lengths.append(len(tensor_wave)/sample_rate) # Her appendes lænden af filen i sekunder\n",
    "    minutes = round((sum(lengths)) / 60 , 2) # Omregn til minutter\n",
    "    return minutes # Returnerer #minutter clips\n",
    "length_in_min(path = '/Users/davidlindahl/Desktop/GitHub/singing_speech_NN-main/audio/test/sing')\n",
    "\n",
    "\n"
   ]
  },
  {
   "cell_type": "markdown",
   "metadata": {},
   "source": [
    "Here it is!"
   ]
  },
  {
   "cell_type": "code",
   "execution_count": 12,
   "metadata": {},
   "outputs": [
    {
     "name": "stdout",
     "output_type": "stream",
     "text": [
      "Training data\n",
      "audio/train/sing: 100.08 min\n",
      "audio/train/speech: 66.1 min\n",
      "----------\n",
      "Test data\n",
      "audio/test/sing: 38.73 min\n",
      "audio/test/speech: 12.18 min\n"
     ]
    }
   ],
   "source": [
    "print('Training data')\n",
    "p1 =  os.path.join('audio','train','sing')\n",
    "p2 =  os.path.join('audio','train','speech')\n",
    "print(f'{p1}:',length_in_min(p1) ,  'min')\n",
    "print(f'{p2}:',length_in_min(p2) ,  'min')\n",
    "\n",
    "print('----------')\n",
    "print('Test data')\n",
    "p3 =  os.path.join('audio','test','sing')\n",
    "p4 =  os.path.join('audio','test','speech')\n",
    "print(f'{p3}:',length_in_min(p3) ,  'min')\n",
    "print(f'{p4}:',length_in_min(p4) ,  'min')\n",
    "\n"
   ]
  }
 ],
 "metadata": {
  "kernelspec": {
   "display_name": "Python 3",
   "language": "python",
   "name": "python3"
  },
  "language_info": {
   "codemirror_mode": {
    "name": "ipython",
    "version": 3
   },
   "file_extension": ".py",
   "mimetype": "text/x-python",
   "name": "python",
   "nbconvert_exporter": "python",
   "pygments_lexer": "ipython3",
   "version": "3.11.5"
  },
  "orig_nbformat": 4
 },
 "nbformat": 4,
 "nbformat_minor": 2
}
