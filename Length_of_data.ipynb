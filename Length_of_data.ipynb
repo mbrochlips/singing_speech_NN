{
 "cells": [
  {
   "cell_type": "markdown",
   "metadata": {},
   "source": [
    "Import relevant packages"
   ]
  },
  {
   "cell_type": "code",
   "execution_count": 5,
   "metadata": {},
   "outputs": [],
   "source": [
    "import tensorflow as tf\n",
    "import tensorflow_io as  tfio\n",
    "import os\n",
    "from Code.wip2_MIKnDAV import read_mp3\n"
   ]
  },
  {
   "cell_type": "markdown",
   "metadata": {},
   "source": [
    "# Length of data"
   ]
  },
  {
   "cell_type": "code",
   "execution_count": 28,
   "metadata": {},
   "outputs": [
    {
     "name": "stdout",
     "output_type": "stream",
     "text": [
      "Totalt træningsdata i audio/train/sing: 19.697578609221466 min\n"
     ]
    }
   ],
   "source": [
    "def length_in_sec(path):\n",
    "    lengths = [] # Laver en liste med længderne af filerne målt i hz.\n",
    "    for file in os.listdir(path):\n",
    "        tensor_wave = read_mp3(os.path.join(path,file))\n",
    "        lengths.append(len(tensor_wave[1])/44100) # Tensor_wave[1] er waven\n",
    "    return lengths # Returnerer en liste af alle klipsenes længder\n",
    "path = os.path.join('audio','train','sing')\n",
    "print(f'Totalt træningsdata i {path}:',sum(length_in_sec(path))/60 , 'min')"
   ]
  }
 ],
 "metadata": {
  "kernelspec": {
   "display_name": "Python 3",
   "language": "python",
   "name": "python3"
  },
  "language_info": {
   "codemirror_mode": {
    "name": "ipython",
    "version": 3
   },
   "file_extension": ".py",
   "mimetype": "text/x-python",
   "name": "python",
   "nbconvert_exporter": "python",
   "pygments_lexer": "ipython3",
   "version": "3.11.5"
  },
  "orig_nbformat": 4
 },
 "nbformat": 4,
 "nbformat_minor": 2
}
