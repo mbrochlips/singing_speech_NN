{
 "cells": [
  {
   "cell_type": "markdown",
   "metadata": {},
   "source": [
    "Import relevant packages"
   ]
  },
  {
   "cell_type": "code",
   "execution_count": 106,
   "metadata": {},
   "outputs": [],
   "source": [
    "import os\n",
    "import librosa\n",
    "import numpy as np\n"
   ]
  },
  {
   "cell_type": "markdown",
   "metadata": {},
   "source": [
    "### Read MP3 files"
   ]
  },
  {
   "cell_type": "code",
   "execution_count": 107,
   "metadata": {},
   "outputs": [],
   "source": [
    "def read_mp3(filename, as_float=True): # Change duration here\n",
    "    sound, sample_rate = librosa.load(filename, sr=None, mono=True) # Offset = 1.0 betyder, at lydfilen læses fra 1.0 fra start og 2 sekunder frem (duration = 2.0)\n",
    "    if as_float:\n",
    "        sound = sound.astype(float)\n",
    "    return sample_rate, sound"
   ]
  },
  {
   "cell_type": "markdown",
   "metadata": {},
   "source": [
    "# Length of data: For each folder"
   ]
  },
  {
   "cell_type": "code",
   "execution_count": 108,
   "metadata": {},
   "outputs": [
    {
     "data": {
      "text/plain": [
       "38.73"
      ]
     },
     "execution_count": 108,
     "metadata": {},
     "output_type": "execute_result"
    }
   ],
   "source": [
    "\n",
    "def length_in_min(path):\n",
    "    lengths = [] # Laver en liste med længderne af filerne målt i hz.\n",
    "    for file in os.listdir(path):\n",
    "        sample_rate ,tensor_wave = read_mp3(os.path.join(path,file))\n",
    "        lengths.append(len(tensor_wave)/sample_rate) # Her appendes lænden af filen i sekunder\n",
    "    minutes = round((sum(lengths)) / 60 , 2) # Omregn til minutter\n",
    "    return minutes # Returnerer #minutter clips\n",
    "\n",
    "\n"
   ]
  },
  {
   "cell_type": "markdown",
   "metadata": {},
   "source": [
    "Here it is!"
   ]
  },
  {
   "cell_type": "code",
   "execution_count": 119,
   "metadata": {},
   "outputs": [
    {
     "name": "stdout",
     "output_type": "stream",
     "text": [
      "Training data\n",
      "audio/train/sing: 100.08 min\n",
      "audio/train/speech: 99.99 min\n"
     ]
    }
   ],
   "source": [
    "print('Training data')\n",
    "p1 =  os.path.join('audio','train','sing')\n",
    "p2 =  os.path.join('audio','train','speech')\n",
    "print(f'{p1}:',length_in_min(p1) ,  'min')\n",
    "print(f'{p2}:',length_in_min(p2) ,  'min')\n",
    "\n",
    "# print('----------')\n",
    "# print('Test data')\n",
    "# p3 =  os.path.join('audio','test','sing')\n",
    "# p4 =  os.path.join('audio','test','speech')\n",
    "# print(f'{p3}:',length_in_min(p3) ,  'min')\n",
    "# print(f'{p4}:',length_in_min(p4) ,  'min')\n",
    "\n"
   ]
  },
  {
   "cell_type": "markdown",
   "metadata": {},
   "source": [
    "# Length of data: For each specific file-type"
   ]
  },
  {
   "cell_type": "code",
   "execution_count": 101,
   "metadata": {},
   "outputs": [],
   "source": [
    "def length_of_dataset(path , search_keyword:str = ''): # Indsæt start bogstaver\n",
    "    lengths = [] # Laver en liste med længderne af filerne målt i hz.\n",
    "    for file in os.listdir(path):\n",
    "        if file.startswith(search_keyword):\n",
    "            sample_rate ,tensor_wave = read_mp3(os.path.join(path,file))\n",
    "            lengths.append(len(tensor_wave)/sample_rate) # Her appendes lænden af filen i sekunder\n",
    "    minutes = round((sum(lengths)) / 60 , 2) # Omregn til minutter\n",
    "    seconds = sum(lengths) - (60* int(minutes))\n",
    "    seconds = round(seconds,1)\n",
    "    print('Length of dataset in \"' + path + '\" with search keyword \"' + search_keyword + '\" :')\n",
    "    print(str(int(minutes)) +f':{seconds}')\n",
    "\n"
   ]
  },
  {
   "cell_type": "markdown",
   "metadata": {},
   "source": [
    "### Length of training dataset"
   ]
  },
  {
   "cell_type": "code",
   "execution_count": null,
   "metadata": {},
   "outputs": [],
   "source": [
    "p1 =  os.path.join('audio','train','sing')\n",
    "p2 =  os.path.join('audio','train','speech')\n",
    "p3 =  os.path.join('audio','test','sing')\n",
    "p4 =  os.path.join('audio','test','speech')"
   ]
  },
  {
   "cell_type": "code",
   "execution_count": 99,
   "metadata": {},
   "outputs": [
    {
     "name": "stdout",
     "output_type": "stream",
     "text": [
      "Length of dataset in \"audio/train/speech\" with search keyword \"common\" :\n",
      "37:45.6\n",
      "Length of dataset in \"audio/train/speech\" with search keyword \"00\" :\n",
      "28:20.3\n",
      "Length of dataset in \"audio/train/sing\" with search keyword \"F\" :\n",
      "20:30.5\n",
      "Length of dataset in \"audio/train/sing\" with search keyword \"M\" :\n",
      "20:18.2\n",
      "20+20 = 40\n",
      "30.5 + 18.2 = 48.7\n",
      "Length of dataset in \"audio/train/sing\" with search keyword \"00 - aud\" :\n",
      "52:44.0\n"
     ]
    }
   ],
   "source": [
    "length_of_dataset(p2 , search_keyword= 'common')\n",
    "length_of_dataset(p2 , search_keyword= '00')\n",
    "length_of_dataset(p1 , search_keyword= 'F' )\n",
    "length_of_dataset(p1 , search_keyword='M')\n",
    "print('20+20 =',20 + 20)\n",
    "print('30.5 + 18.2 =',30.5 + 18.2)\n",
    "length_of_dataset(p1 , search_keyword= '00 - aud')\n"
   ]
  },
  {
   "cell_type": "markdown",
   "metadata": {},
   "source": [
    "### Length of testing dataset"
   ]
  },
  {
   "cell_type": "code",
   "execution_count": 93,
   "metadata": {},
   "outputs": [
    {
     "name": "stdout",
     "output_type": "stream",
     "text": [
      "Length of dataset in \"audio/test/speech\" with search keyword \"common\" :\n",
      "0:55.4\n",
      "Length of dataset in \"audio/test/speech\" with search keyword \"00 -\" :\n",
      "13:17.8\n"
     ]
    }
   ],
   "source": [
    "length_of_dataset(p4 , search_keyword='common')\n",
    "length_of_dataset(p4 , '00 -')"
   ]
  },
  {
   "cell_type": "markdown",
   "metadata": {},
   "source": [
    "### Total lengths"
   ]
  },
  {
   "cell_type": "code",
   "execution_count": 104,
   "metadata": {},
   "outputs": [
    {
     "name": "stdout",
     "output_type": "stream",
     "text": [
      "Length of dataset in \"audio/train/sing\" with search keyword \"\" :\n",
      "100:4.7\n",
      "Length of dataset in \"audio/train/speech\" with search keyword \"\" :\n",
      "66:5.9\n",
      "total training minutes = 166\n",
      "total training seconds = 10.600000000000001\n"
     ]
    }
   ],
   "source": [
    "length_of_dataset(p1)\n",
    "length_of_dataset(p2)\n",
    "print('total training minutes =',100 + 66)\n",
    "print('total training seconds =' , 4.7 + 5.9)"
   ]
  }
 ],
 "metadata": {
  "kernelspec": {
   "display_name": "Python 3",
   "language": "python",
   "name": "python3"
  },
  "language_info": {
   "codemirror_mode": {
    "name": "ipython",
    "version": 3
   },
   "file_extension": ".py",
   "mimetype": "text/x-python",
   "name": "python",
   "nbconvert_exporter": "python",
   "pygments_lexer": "ipython3",
   "version": "3.11.5"
  },
  "orig_nbformat": 4
 },
 "nbformat": 4,
 "nbformat_minor": 2
}
