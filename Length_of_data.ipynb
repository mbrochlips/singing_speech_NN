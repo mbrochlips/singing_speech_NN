{
 "cells": [
  {
   "cell_type": "markdown",
   "metadata": {},
   "source": [
    "Import relevant packages"
   ]
  },
  {
   "cell_type": "code",
   "execution_count": 23,
   "metadata": {},
   "outputs": [],
   "source": [
    "import os\n",
    "import librosa\n",
    "import numpy as np\n"
   ]
  },
  {
   "cell_type": "markdown",
   "metadata": {},
   "source": [
    "### Read MP3 files"
   ]
  },
  {
   "cell_type": "code",
   "execution_count": 24,
   "metadata": {},
   "outputs": [],
   "source": [
    "def read_mp3(filename, as_float=True): # Change duration here\n",
    "    sound, sample_rate = librosa.load(filename, sr=None, mono=True) # Offset = 1.0 betyder, at lydfilen læses fra 1.0 fra start og 2 sekunder frem (duration = 2.0)\n",
    "    if as_float:\n",
    "        sound = sound.astype(float)\n",
    "    return sample_rate, sound"
   ]
  },
  {
   "cell_type": "markdown",
   "metadata": {},
   "source": [
    "# Length of data"
   ]
  },
  {
   "cell_type": "code",
   "execution_count": 25,
   "metadata": {},
   "outputs": [
    {
     "data": {
      "text/plain": [
       "46.83"
      ]
     },
     "execution_count": 25,
     "metadata": {},
     "output_type": "execute_result"
    }
   ],
   "source": [
    "\n",
    "def length_in_min(path):\n",
    "    lengths = [] # Laver en liste med længderne af filerne målt i hz.\n",
    "    for file in os.listdir(path):\n",
    "        sample_rate ,tensor_wave = read_mp3(os.path.join(path,file))\n",
    "        lengths.append(len(tensor_wave)/sample_rate) # Her appendes lænden af filen i sekunder\n",
    "    minutes = round((sum(lengths)) / 60 , 2) # Omregn til minutter\n",
    "    return minutes # Returnerer #minutter clips\n",
    "length_in_min(path = '/Users/davidlindahl/Desktop/GitHub/singing_speech_NN-main/audio/test/sing')\n",
    "\n",
    "\n"
   ]
  },
  {
   "cell_type": "markdown",
   "metadata": {},
   "source": [
    "Length of training data:"
   ]
  },
  {
   "cell_type": "code",
   "execution_count": 26,
   "metadata": {},
   "outputs": [
    {
     "name": "stdout",
     "output_type": "stream",
     "text": [
      "Totalt træningsdata i audio/train/speech: 60.39 min\n"
     ]
    }
   ],
   "source": [
    "path_sing = os.path.join('audio','train','speech') # Insert your directory\n",
    "print(f'Totalt træningsdata i {path_sing}:',length_in_min(path_sing) ,  'min')"
   ]
  },
  {
   "cell_type": "code",
   "execution_count": 27,
   "metadata": {},
   "outputs": [
    {
     "name": "stdout",
     "output_type": "stream",
     "text": [
      "Totalt træningsdata i audio/train/sing: 93.54 min\n"
     ]
    }
   ],
   "source": [
    "path_speech =  os.path.join('audio','train','sing')\n",
    "print(f'Totalt træningsdata i {path_speech}:',length_in_min(path_speech) ,  'min')\n"
   ]
  }
 ],
 "metadata": {
  "kernelspec": {
   "display_name": "Python 3",
   "language": "python",
   "name": "python3"
  },
  "language_info": {
   "codemirror_mode": {
    "name": "ipython",
    "version": 3
   },
   "file_extension": ".py",
   "mimetype": "text/x-python",
   "name": "python",
   "nbconvert_exporter": "python",
   "pygments_lexer": "ipython3",
   "version": "3.11.5"
  },
  "orig_nbformat": 4
 },
 "nbformat": 4,
 "nbformat_minor": 2
}
