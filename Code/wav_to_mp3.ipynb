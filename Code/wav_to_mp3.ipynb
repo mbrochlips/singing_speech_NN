{
 "cells": [
  {
   "cell_type": "code",
   "execution_count": 6,
   "metadata": {},
   "outputs": [],
   "source": [
    "# Import the relevant packages\n",
    "import os\n",
    "from pydub import AudioSegment\n",
    "\n"
   ]
  },
  {
   "cell_type": "markdown",
   "metadata": {},
   "source": [
    "### From wav to mp3 function"
   ]
  },
  {
   "cell_type": "code",
   "execution_count": 14,
   "metadata": {},
   "outputs": [],
   "source": [
    "def wav_to_mp3_directory(path): # Function that takes path of .mp3 file, converts it into .wav.\n",
    "    \n",
    "    # Ensure the directory path ends with a path separator\n",
    "    if not path.endswith(os.path.sep):\n",
    "        path += os.path.sep\n",
    "\n",
    "     # Create mp3_files directory if it doesn't exist\n",
    "    output_dir = os.path.join(path, 'mp3_files')\n",
    "    if not os.path.exists(output_dir):\n",
    "        os.makedirs(output_dir)\n",
    "\n",
    "    for root, _, filenames in os.walk(path): # Iterates through all files in directory AND all files in root\n",
    "        for filename in filenames: # Iterate through all of the files\n",
    "                if filename.endswith('.wav'):\n",
    "                    audio = AudioSegment.from_wav(os.path.join(root, filename)) # Converts .wav file to AudioSegment\n",
    "                    output_path = os.path.join(output_dir, filename[:-4] + '.mp3') \n",
    "                    audio.export(output_path,format = 'mp3') # Making the .mp3 file\n",
    "                    os.remove(os.path.join(root , filename)) # Removes the old .wav file\n",
    "\n",
    "# TEST 1\n",
    "wav_to_mp3_directory(path=os.path.join('/Users/davidlindahl/Desktop/GitHub/singing_speech_NN/audio/test/speech/test'))"
   ]
  }
 ],
 "metadata": {
  "kernelspec": {
   "display_name": "Python 3",
   "language": "python",
   "name": "python3"
  },
  "language_info": {
   "codemirror_mode": {
    "name": "ipython",
    "version": 3
   },
   "file_extension": ".py",
   "mimetype": "text/x-python",
   "name": "python",
   "nbconvert_exporter": "python",
   "pygments_lexer": "ipython3",
   "version": "3.11.5"
  },
  "orig_nbformat": 4
 },
 "nbformat": 4,
 "nbformat_minor": 2
}
