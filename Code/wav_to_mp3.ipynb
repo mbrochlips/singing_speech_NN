{
 "cells": [
  {
   "cell_type": "code",
   "execution_count": 6,
   "metadata": {},
   "outputs": [],
   "source": [
    "# Import the relevant packages\n",
    "import os\n",
    "from pydub import AudioSegment\n",
    "\n"
   ]
  },
  {
   "cell_type": "markdown",
   "metadata": {},
   "source": [
    "### From MP3 to WAV function:"
   ]
  },
  {
   "cell_type": "code",
   "execution_count": 7,
   "metadata": {},
   "outputs": [],
   "source": [
    "def mp3_to_wav_directory(path): # Function that takes path of .mp3 file, converts it into .wav.\n",
    "    \n",
    "    # Ensure the directory path ends with a path separator\n",
    "    if not path.endswith(os.path.sep):\n",
    "        path += os.path.sep\n",
    "    \n",
    "    for root, _, filenames in os.walk(path): # Iterates through all files in directory AND all files in root\n",
    "        for filename in filenames: # Iterate through all of the files\n",
    "                if filename.endswith('.mp3') or filename.endswith('.MP3'):\n",
    "                    audio = AudioSegment.from_mp3(os.path.join(root, filename)) # Converts .mp3 file to AudioSegment\n",
    "                    audio.export(os.path.join(root , filename)[:-4] + '.wav',format ='wav') # Converts to .wav\n",
    "                    os.remove(os.path.join(root , filename)) # Removes the old .mp3 file\n",
    "\n",
    "# TEST 1\n",
    "mp3_to_wav_directory(path=os.path.join('Audio'))\n"
   ]
  },
  {
   "cell_type": "markdown",
   "metadata": {},
   "source": [
    "### From wav to mp3 function"
   ]
  },
  {
   "cell_type": "code",
   "execution_count": 13,
   "metadata": {},
   "outputs": [],
   "source": [
    "def wav_to_mp3_directory(path): # Function that takes path of a directory, and changes ALL .wav files in folder and sub-folders to .mp3\n",
    "    \n",
    "    # Ensure the directory path ends with a path separator\n",
    "    if not path.endswith(os.path.sep):\n",
    "        path += os.path.sep\n",
    "    \n",
    "    for root, _, filenames in os.walk(path): # Iterates through all files in directory AND all files in root\n",
    "        for filename in filenames: # Iterate through all of the files\n",
    "                if filename.endswith('.wav'):\n",
    "                    audio = AudioSegment.from_wav(os.path.join(root, filename)) # Converts .wav file to AudioSegment\n",
    "                    audio.export(os.path.join(root , filename)[:-4] + '.mp3',format ='mp3') # Converts to .mp3\n",
    "                    os.remove(os.path.join(root , filename)) # Removes the old .wav file\n",
    "\n",
    "# TEST 1: indsæt din oath\n",
    "wav_to_mp3_directory('/Users/davidlindahl/Desktop/GitHub/singing_Speech_NN/audio/sing')"
   ]
  }
 ],
 "metadata": {
  "kernelspec": {
   "display_name": "Python 3",
   "language": "python",
   "name": "python3"
  },
  "language_info": {
   "codemirror_mode": {
    "name": "ipython",
    "version": 3
   },
   "file_extension": ".py",
   "mimetype": "text/x-python",
   "name": "python",
   "nbconvert_exporter": "python",
   "pygments_lexer": "ipython3",
   "version": "3.11.5"
  },
  "orig_nbformat": 4
 },
 "nbformat": 4,
 "nbformat_minor": 2
}
