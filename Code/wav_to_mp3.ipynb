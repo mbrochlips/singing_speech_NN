{
 "cells": [
  {
   "cell_type": "code",
   "execution_count": 34,
   "metadata": {},
   "outputs": [],
   "source": [
    "# Import the relevant packages\n",
    "import os\n",
    "import matplotlib.pyplot as plt\n",
    "import numpy as np\n",
    "import tensorflow as tf\n",
    "import tensorflow_io as tfio\n",
    "from pydub import AudioSegment\n",
    "\n"
   ]
  },
  {
   "cell_type": "markdown",
   "metadata": {},
   "source": []
  },
  {
   "cell_type": "markdown",
   "metadata": {},
   "source": [
    "### Defining sing_file and talk_file"
   ]
  },
  {
   "cell_type": "code",
   "execution_count": 35,
   "metadata": {},
   "outputs": [],
   "source": [
    "sing_file =  os.path.join('Audio','Sing','Test','00 - audio - q21.mp3') # This is just an example file\n",
    "talk_file = os.path.join('Audio','Talk','PATH') # Remember to insert talk path here"
   ]
  },
  {
   "cell_type": "code",
   "execution_count": 36,
   "metadata": {},
   "outputs": [
    {
     "data": {
      "text/plain": [
       "'Audio/Sing/Test/00 - audio - q21.mp3'"
      ]
     },
     "execution_count": 36,
     "metadata": {},
     "output_type": "execute_result"
    }
   ],
   "source": [
    "sing_file"
   ]
  },
  {
   "cell_type": "markdown",
   "metadata": {},
   "source": [
    "### From MP3 to WAV function:"
   ]
  },
  {
   "cell_type": "code",
   "execution_count": 42,
   "metadata": {},
   "outputs": [],
   "source": [
    "def mp3_to_wav_directory(path): # Function that takes path of .mp3 file, converts it into .wav.\n",
    "    \n",
    "    # Ensure the directory path ends with a path separator\n",
    "    if not path.endswith(os.path.sep):\n",
    "        path += os.path.sep\n",
    "    \n",
    "    for root, _, filenames in os.walk(path): # Iterates through all files in directory AND all files in root\n",
    "        for filename in filenames: # Iterate through all of the files\n",
    "                if filename.endswith('.mp3') or filename.endswith('.MP3'):\n",
    "                    audio = AudioSegment.from_mp3(os.path.join(root, filename)) # Converts .mp3 file to AudioSegment\n",
    "                    audio.export(os.path.join(root , filename)[:-4] + '.wav',format ='wav') # Converts to .wav\n",
    "                    os.remove(os.path.join(root , filename)) # Removes the old .mp3 file\n",
    "\n",
    "# TEST 1\n",
    "mp3_to_wav_directory(path=os.path.join('Audio'))\n"
   ]
  },
  {
   "cell_type": "markdown",
   "metadata": {},
   "source": [
    "### From wav to mp3 function"
   ]
  },
  {
   "cell_type": "code",
   "execution_count": 41,
   "metadata": {},
   "outputs": [],
   "source": [
    "def wav_to_mp3_directory(path): # Function that takes path of .wav file, converts it into .mp3.\n",
    "    \n",
    "    # Ensure the directory path ends with a path separator\n",
    "    if not path.endswith(os.path.sep):\n",
    "        path += os.path.sep\n",
    "    \n",
    "    for root, _, filenames in os.walk(path): # Iterates through all files in directory AND all files in root\n",
    "        for filename in filenames: # Iterate through all of the files\n",
    "                if filename.endswith('.wav'):\n",
    "                    audio = AudioSegment.from_wav(os.path.join(root, filename)) # Converts .wav file to AudioSegment\n",
    "                    audio.export(os.path.join(root , filename)[:-4] + '.mp3',format ='mp3') # Converts to .mp3\n",
    "                    os.remove(os.path.join(root , filename)) # Removes the old .wav file\n",
    "\n",
    "# TEST 1\n",
    "wav_to_mp3_directory(path=os.path.join('Audio'))"
   ]
  },
  {
   "cell_type": "markdown",
   "metadata": {},
   "source": [
    "## Data loading function:\n"
   ]
  },
  {
   "cell_type": "code",
   "execution_count": null,
   "metadata": {},
   "outputs": [
    {
     "name": "stderr",
     "output_type": "stream",
     "text": [
      "2024-01-04 20:24:43.008687: W tensorflow/core/framework/op_kernel.cc:1839] OP_REQUIRES failed at decode_wav_op.cc:55 : INVALID_ARGUMENT: Header mismatch: Expected RIFF but found ID3\u0003\n"
     ]
    },
    {
     "ename": "InvalidArgumentError",
     "evalue": "{{function_node __wrapped__DecodeWav_device_/job:localhost/replica:0/task:0/device:CPU:0}} Header mismatch: Expected RIFF but found ID3\u0003 [Op:DecodeWav] name: ",
     "output_type": "error",
     "traceback": [
      "\u001b[0;31m---------------------------------------------------------------------------\u001b[0m",
      "\u001b[0;31mInvalidArgumentError\u001b[0m                      Traceback (most recent call last)",
      "\u001b[1;32m/Users/davidlindahl/Desktop/GitHub/Audio-Classification/Audio_recognition.ipynb Cell 6\u001b[0m line \u001b[0;36m9\n\u001b[1;32m      <a href='vscode-notebook-cell:/Users/davidlindahl/Desktop/GitHub/Audio-Classification/Audio_recognition.ipynb#W5sZmlsZQ%3D%3D?line=6'>7</a>\u001b[0m     wav \u001b[39m=\u001b[39m tf\u001b[39m.\u001b[39msqueeze(wav,axis \u001b[39m=\u001b[39m \u001b[39m1\u001b[39m)\n\u001b[1;32m      <a href='vscode-notebook-cell:/Users/davidlindahl/Desktop/GitHub/Audio-Classification/Audio_recognition.ipynb#W5sZmlsZQ%3D%3D?line=7'>8</a>\u001b[0m     \u001b[39mprint\u001b[39m(wav)\n\u001b[0;32m----> <a href='vscode-notebook-cell:/Users/davidlindahl/Desktop/GitHub/Audio-Classification/Audio_recognition.ipynb#W5sZmlsZQ%3D%3D?line=8'>9</a>\u001b[0m load_wav_16k_mono(sing_file)\n",
      "\u001b[1;32m/Users/davidlindahl/Desktop/GitHub/Audio-Classification/Audio_recognition.ipynb Cell 6\u001b[0m line \u001b[0;36m5\n\u001b[1;32m      <a href='vscode-notebook-cell:/Users/davidlindahl/Desktop/GitHub/Audio-Classification/Audio_recognition.ipynb#W5sZmlsZQ%3D%3D?line=2'>3</a>\u001b[0m file_contents \u001b[39m=\u001b[39m tf\u001b[39m.\u001b[39mio\u001b[39m.\u001b[39mread_file(filename) \n\u001b[1;32m      <a href='vscode-notebook-cell:/Users/davidlindahl/Desktop/GitHub/Audio-Classification/Audio_recognition.ipynb#W5sZmlsZQ%3D%3D?line=3'>4</a>\u001b[0m \u001b[39m# Omformer vores monster string til bølgen = wav og sample rate. Desired channel: Laver lyden til mono i stedet for stereo.\u001b[39;00m\n\u001b[0;32m----> <a href='vscode-notebook-cell:/Users/davidlindahl/Desktop/GitHub/Audio-Classification/Audio_recognition.ipynb#W5sZmlsZQ%3D%3D?line=4'>5</a>\u001b[0m wav , sample_rate \u001b[39m=\u001b[39m  tf\u001b[39m.\u001b[39;49maudio\u001b[39m.\u001b[39;49mdecode_wav(file_contents , desired_channels \u001b[39m=\u001b[39;49m \u001b[39m1\u001b[39;49m)\n\u001b[1;32m      <a href='vscode-notebook-cell:/Users/davidlindahl/Desktop/GitHub/Audio-Classification/Audio_recognition.ipynb#W5sZmlsZQ%3D%3D?line=5'>6</a>\u001b[0m \u001b[39m# Removing trailing axis, Før er shape = (854437,1). Nu er shape = (854437)\u001b[39;00m\n\u001b[1;32m      <a href='vscode-notebook-cell:/Users/davidlindahl/Desktop/GitHub/Audio-Classification/Audio_recognition.ipynb#W5sZmlsZQ%3D%3D?line=6'>7</a>\u001b[0m wav \u001b[39m=\u001b[39m tf\u001b[39m.\u001b[39msqueeze(wav,axis \u001b[39m=\u001b[39m \u001b[39m1\u001b[39m)\n",
      "File \u001b[0;32m/Library/Frameworks/Python.framework/Versions/3.11/lib/python3.11/site-packages/tensorflow/python/ops/gen_audio_ops.py:180\u001b[0m, in \u001b[0;36mdecode_wav\u001b[0;34m(contents, desired_channels, desired_samples, name)\u001b[0m\n\u001b[1;32m    178\u001b[0m   \u001b[39mreturn\u001b[39;00m _result\n\u001b[1;32m    179\u001b[0m \u001b[39mexcept\u001b[39;00m _core\u001b[39m.\u001b[39m_NotOkStatusException \u001b[39mas\u001b[39;00m e:\n\u001b[0;32m--> 180\u001b[0m   _ops\u001b[39m.\u001b[39;49mraise_from_not_ok_status(e, name)\n\u001b[1;32m    181\u001b[0m \u001b[39mexcept\u001b[39;00m _core\u001b[39m.\u001b[39m_FallbackException:\n\u001b[1;32m    182\u001b[0m   \u001b[39mpass\u001b[39;00m\n",
      "File \u001b[0;32m/Library/Frameworks/Python.framework/Versions/3.11/lib/python3.11/site-packages/tensorflow/python/framework/ops.py:5883\u001b[0m, in \u001b[0;36mraise_from_not_ok_status\u001b[0;34m(e, name)\u001b[0m\n\u001b[1;32m   5881\u001b[0m \u001b[39mdef\u001b[39;00m \u001b[39mraise_from_not_ok_status\u001b[39m(e, name) \u001b[39m-\u001b[39m\u001b[39m>\u001b[39m NoReturn:\n\u001b[1;32m   5882\u001b[0m   e\u001b[39m.\u001b[39mmessage \u001b[39m+\u001b[39m\u001b[39m=\u001b[39m (\u001b[39m\"\u001b[39m\u001b[39m name: \u001b[39m\u001b[39m\"\u001b[39m \u001b[39m+\u001b[39m \u001b[39mstr\u001b[39m(name \u001b[39mif\u001b[39;00m name \u001b[39mis\u001b[39;00m \u001b[39mnot\u001b[39;00m \u001b[39mNone\u001b[39;00m \u001b[39melse\u001b[39;00m \u001b[39m\"\u001b[39m\u001b[39m\"\u001b[39m))\n\u001b[0;32m-> 5883\u001b[0m   \u001b[39mraise\u001b[39;00m core\u001b[39m.\u001b[39m_status_to_exception(e) \u001b[39mfrom\u001b[39;00m \u001b[39mNone\u001b[39;00m\n",
      "\u001b[0;31mInvalidArgumentError\u001b[0m: {{function_node __wrapped__DecodeWav_device_/job:localhost/replica:0/task:0/device:CPU:0}} Header mismatch: Expected RIFF but found ID3\u0003 [Op:DecodeWav] name: "
     ]
    }
   ],
   "source": [
    "def load_wav_16k_mono(filename:str):\n",
    "    # Læser filen og converter den til en monster string.\n",
    "    file_contents = tf.io.read_file(filename) \n",
    "    # Omformer vores monster string til bølgen = wav og sample rate. Desired channel: Laver lyden til mono i stedet for stereo.\n",
    "    wav , sample_rate =  tf.audio.decode_wav(file_contents , desired_channels = 1)\n",
    "    # Removing trailing axis, Før er shape = (854437,1). Nu er shape = (854437)\n",
    "    wav = tf.squeeze(wav,axis = 1)\n",
    "    print(wav)\n",
    "load_wav_16k_mono(sing_file)\n",
    "\n"
   ]
  }
 ],
 "metadata": {
  "kernelspec": {
   "display_name": "Python 3",
   "language": "python",
   "name": "python3"
  },
  "language_info": {
   "codemirror_mode": {
    "name": "ipython",
    "version": 3
   },
   "file_extension": ".py",
   "mimetype": "text/x-python",
   "name": "python",
   "nbconvert_exporter": "python",
   "pygments_lexer": "ipython3",
   "version": "3.11.5"
  },
  "orig_nbformat": 4
 },
 "nbformat": 4,
 "nbformat_minor": 2
}
